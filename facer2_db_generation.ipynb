{
 "cells": [
  {
   "cell_type": "markdown",
   "metadata": {},
   "source": [
    "# Generando la Base de Datos para FaceR2... "
   ]
  },
  {
   "cell_type": "markdown",
   "metadata": {},
   "source": [
    "Importando las librerías..."
   ]
  },
  {
   "cell_type": "code",
   "execution_count": 1,
   "metadata": {},
   "outputs": [
    {
     "name": "stderr",
     "output_type": "stream",
     "text": [
      "Using TensorFlow backend.\n"
     ]
    }
   ],
   "source": [
    "import os\n",
    "\n",
    "import numpy as np\n",
    "from numpy import genfromtxt\n",
    "import pandas as pd\n",
    "\n",
    "import PIL\n",
    "\n",
    "import tensorflow as tf\n",
    "\n",
    "from keras.models import Sequential\n",
    "from keras.layers import Conv2D, ZeroPadding2D, Activation, Input, concatenate\n",
    "from keras.models import Model\n",
    "from keras.layers import BatchNormalization\n",
    "from keras.layers import MaxPooling2D, AveragePooling2D\n",
    "from keras.layers import Concatenate\n",
    "from keras.layers import Lambda, Flatten, Dense\n",
    "from keras.initializers import glorot_uniform\n",
    "from keras.layers import Layer\n",
    "from tensorflow.keras import backend as K\n",
    "\n",
    "from tensorflow.keras.models import model_from_json\n",
    "\n",
    "K.set_image_data_format('channels_last')\n",
    "\n",
    "import streamlit as st\n",
    "import json"
   ]
  },
  {
   "cell_type": "markdown",
   "metadata": {},
   "source": [
    "Cargando el modelo..."
   ]
  },
  {
   "cell_type": "code",
   "execution_count": 2,
   "metadata": {},
   "outputs": [],
   "source": [
    "json_file = open('./keras-facenet-h5/model.json','r')\n",
    "loaded_model_json = json_file.read()\n",
    "json_file.close()\n",
    "\n",
    "model = model_from_json(loaded_model_json)"
   ]
  },
  {
   "cell_type": "markdown",
   "metadata": {},
   "source": [
    "Instanciando el modelo preentrenado..."
   ]
  },
  {
   "cell_type": "code",
   "execution_count": 3,
   "metadata": {},
   "outputs": [],
   "source": [
    "FRmodel = model"
   ]
  },
  {
   "cell_type": "markdown",
   "metadata": {},
   "source": [
    "Función de codificación de la imagen a un vector de 128..."
   ]
  },
  {
   "cell_type": "code",
   "execution_count": 4,
   "metadata": {},
   "outputs": [],
   "source": [
    "#tf.keras.backend.set_image_data_format('channels_last')\n",
    "def img_to_encoding(image_path, model):\n",
    "    img = tf.keras.preprocessing.image.load_img(image_path, target_size=(160, 160))\n",
    "    img = np.around(np.array(img) / 255.0, decimals=12)\n",
    "    x_train = np.expand_dims(img, axis=0)\n",
    "    embedding = model.predict_on_batch(x_train)\n",
    "    return embedding / np.linalg.norm(embedding, ord=2)"
   ]
  },
  {
   "cell_type": "markdown",
   "metadata": {},
   "source": [
    "Creando la base de datos... Va para un nuevo archivo... (.py)"
   ]
  },
  {
   "cell_type": "code",
   "execution_count": 5,
   "metadata": {},
   "outputs": [],
   "source": [
    "database = {}\n",
    "database[\"viowi\"] = img_to_encoding(\"images/viowi.jpg\", FRmodel)\n",
    "database[\"guillermo\"] = img_to_encoding(\"images/guillermo.jpg\", FRmodel)\n",
    "database[\"angel\"] = img_to_encoding(\"images/angel.jpg\", FRmodel)\n",
    "database[\"ernesto\"] = img_to_encoding(\"images/ernesto.jpg\", FRmodel)\n",
    "database[\"rodolfo\"] = img_to_encoding(\"images/rodolfo.jpg\", FRmodel)\n",
    "\n",
    "# Función para convertir ndarrays a listas\n",
    "def convert_ndarray_to_list(d):\n",
    "    for key, value in d.items():\n",
    "        if isinstance(value, np.ndarray):\n",
    "            d[key] = value.tolist()\n",
    "        elif isinstance(value, dict):\n",
    "            convert_ndarray_to_list(value)\n",
    "\n",
    "convert_ndarray_to_list(database)\n",
    "\n",
    "with open('./keras-facenet-h5/db_facer2.json', 'w') as outfile:\n",
    "    json.dump(database, outfile, indent=4)"
   ]
  }
 ],
 "metadata": {
  "kernelspec": {
   "display_name": "facer2",
   "language": "python",
   "name": "python3"
  },
  "language_info": {
   "codemirror_mode": {
    "name": "ipython",
    "version": 3
   },
   "file_extension": ".py",
   "mimetype": "text/x-python",
   "name": "python",
   "nbconvert_exporter": "python",
   "pygments_lexer": "ipython3",
   "version": "3.7.12"
  }
 },
 "nbformat": 4,
 "nbformat_minor": 2
}
